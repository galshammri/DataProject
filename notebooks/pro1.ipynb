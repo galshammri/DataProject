{
  "nbformat": 4,
  "nbformat_minor": 0,
  "metadata": {
    "colab": {
      "name": "Untitled1.ipynb",
      "provenance": []
    },
    "kernelspec": {
      "name": "python3",
      "display_name": "Python 3"
    }
  },
  "cells": [
    {
      "cell_type": "code",
      "metadata": {
        "id": "u5qlIAl4kuiU",
        "colab_type": "code",
        "colab": {
          "base_uri": "https://localhost:8080/",
          "height": 35
        },
        "outputId": "87614244-0744-4149-e343-67ad303447e4"
      },
      "source": [
        "print(\"Welcome to Data Science & Big Data Bootcamp\")"
      ],
      "execution_count": 1,
      "outputs": [
        {
          "output_type": "stream",
          "text": [
            "Welcome to Data Science & Big Data Bootcamp\n"
          ],
          "name": "stdout"
        }
      ]
    }
  ]
}